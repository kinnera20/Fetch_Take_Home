{
 "cells": [
  {
   "cell_type": "code",
   "execution_count": 1,
   "id": "35dc9f84",
   "metadata": {},
   "outputs": [
    {
     "name": "stdout",
     "output_type": "stream",
     "text": [
      "Requirement already satisfied: ipython-sql in c:\\users\\kinnera veerapaneni\\anaconda3\\lib\\site-packages (0.5.0)\n",
      "Requirement already satisfied: prettytable in c:\\users\\kinnera veerapaneni\\anaconda3\\lib\\site-packages (from ipython-sql) (3.12.0)\n",
      "Requirement already satisfied: ipython in c:\\users\\kinnera veerapaneni\\anaconda3\\lib\\site-packages (from ipython-sql) (8.15.0)\n",
      "Requirement already satisfied: sqlalchemy>=2.0 in c:\\users\\kinnera veerapaneni\\anaconda3\\lib\\site-packages (from ipython-sql) (2.0.37)\n",
      "Requirement already satisfied: sqlparse in c:\\users\\kinnera veerapaneni\\anaconda3\\lib\\site-packages (from ipython-sql) (0.5.3)\n",
      "Requirement already satisfied: six in c:\\users\\kinnera veerapaneni\\anaconda3\\lib\\site-packages (from ipython-sql) (1.16.0)\n",
      "Requirement already satisfied: ipython-genutils in c:\\users\\kinnera veerapaneni\\anaconda3\\lib\\site-packages (from ipython-sql) (0.2.0)\n",
      "Requirement already satisfied: greenlet!=0.4.17 in c:\\users\\kinnera veerapaneni\\anaconda3\\lib\\site-packages (from sqlalchemy>=2.0->ipython-sql) (2.0.1)\n",
      "Requirement already satisfied: typing-extensions>=4.6.0 in c:\\users\\kinnera veerapaneni\\anaconda3\\lib\\site-packages (from sqlalchemy>=2.0->ipython-sql) (4.7.1)\n",
      "Requirement already satisfied: backcall in c:\\users\\kinnera veerapaneni\\anaconda3\\lib\\site-packages (from ipython->ipython-sql) (0.2.0)\n",
      "Requirement already satisfied: decorator in c:\\users\\kinnera veerapaneni\\anaconda3\\lib\\site-packages (from ipython->ipython-sql) (5.1.1)\n",
      "Requirement already satisfied: jedi>=0.16 in c:\\users\\kinnera veerapaneni\\anaconda3\\lib\\site-packages (from ipython->ipython-sql) (0.18.1)\n",
      "Requirement already satisfied: matplotlib-inline in c:\\users\\kinnera veerapaneni\\anaconda3\\lib\\site-packages (from ipython->ipython-sql) (0.1.6)\n",
      "Requirement already satisfied: pickleshare in c:\\users\\kinnera veerapaneni\\anaconda3\\lib\\site-packages (from ipython->ipython-sql) (0.7.5)\n",
      "Requirement already satisfied: prompt-toolkit!=3.0.37,<3.1.0,>=3.0.30 in c:\\users\\kinnera veerapaneni\\anaconda3\\lib\\site-packages (from ipython->ipython-sql) (3.0.36)\n",
      "Requirement already satisfied: pygments>=2.4.0 in c:\\users\\kinnera veerapaneni\\anaconda3\\lib\\site-packages (from ipython->ipython-sql) (2.15.1)\n",
      "Requirement already satisfied: stack-data in c:\\users\\kinnera veerapaneni\\anaconda3\\lib\\site-packages (from ipython->ipython-sql) (0.2.0)\n",
      "Requirement already satisfied: traitlets>=5 in c:\\users\\kinnera veerapaneni\\anaconda3\\lib\\site-packages (from ipython->ipython-sql) (5.7.1)\n",
      "Requirement already satisfied: colorama in c:\\users\\kinnera veerapaneni\\anaconda3\\lib\\site-packages (from ipython->ipython-sql) (0.4.6)\n",
      "Requirement already satisfied: wcwidth in c:\\users\\kinnera veerapaneni\\anaconda3\\lib\\site-packages (from prettytable->ipython-sql) (0.2.5)\n",
      "Requirement already satisfied: parso<0.9.0,>=0.8.0 in c:\\users\\kinnera veerapaneni\\anaconda3\\lib\\site-packages (from jedi>=0.16->ipython->ipython-sql) (0.8.3)\n",
      "Requirement already satisfied: executing in c:\\users\\kinnera veerapaneni\\anaconda3\\lib\\site-packages (from stack-data->ipython->ipython-sql) (0.8.3)\n",
      "Requirement already satisfied: asttokens in c:\\users\\kinnera veerapaneni\\anaconda3\\lib\\site-packages (from stack-data->ipython->ipython-sql) (2.0.5)\n",
      "Requirement already satisfied: pure-eval in c:\\users\\kinnera veerapaneni\\anaconda3\\lib\\site-packages (from stack-data->ipython->ipython-sql) (0.2.2)\n"
     ]
    }
   ],
   "source": [
    "!pip install ipython-sql"
   ]
  },
  {
   "cell_type": "code",
   "execution_count": 2,
   "id": "a5a1b8f3",
   "metadata": {},
   "outputs": [],
   "source": [
    "import pandas as pd\n",
    "import sqlite3"
   ]
  },
  {
   "cell_type": "code",
   "execution_count": 3,
   "id": "83fd9c25",
   "metadata": {},
   "outputs": [],
   "source": [
    "users = pd.read_csv('cleaned_users.csv')\n",
    "transactions = pd.read_csv('cleaned_transactions.csv')\n",
    "products = pd.read_csv('cleaned_products.csv')"
   ]
  },
  {
   "cell_type": "code",
   "execution_count": 4,
   "id": "71e1a7d3",
   "metadata": {},
   "outputs": [
    {
     "name": "stdout",
     "output_type": "stream",
     "text": [
      "                         ID         CREATED_DATE           BIRTH_DATE STATE  \\\n",
      "0  5ef3b4f17053ab141787697d  2020-06-24 20:17:54  2000-08-11 00:00:00    CA   \n",
      "1  5ff220d383fcfc12622b96bc  2021-01-03 19:53:55  2001-09-24 04:00:00    PA   \n",
      "2  6477950aa55bb77a0e27ee10  2023-05-31 18:42:18  1994-10-28 00:00:00    FL   \n",
      "3  658a306e99b40f103b63ccf8  2023-12-26 01:46:22  1900-01-01 00:00:00    NC   \n",
      "4  653cf5d6a225ea102b7ecdc2  2023-10-28 11:51:50  1972-03-19 00:00:00    PA   \n",
      "\n",
      "  LANGUAGE  GENDER  \n",
      "0   es-419  female  \n",
      "1       en  female  \n",
      "2   es-419  female  \n",
      "3       en      na  \n",
      "4       en  female  \n"
     ]
    }
   ],
   "source": [
    "# Create a connection to an in-memory SQLite database\n",
    "conn = sqlite3.connect(':memory:')\n",
    "\n",
    "# Load DataFrames into SQLite tables\n",
    "users.to_sql('Users', conn, index=False, if_exists='replace')\n",
    "print(users.head())"
   ]
  },
  {
   "cell_type": "code",
   "execution_count": 5,
   "id": "5c7ed413",
   "metadata": {},
   "outputs": [
    {
     "name": "stdout",
     "output_type": "stream",
     "text": [
      "                             RECEIPT_ID PURCHASE_DATE  \\\n",
      "0  0000d256-4041-4a3e-adc4-5623fb6e0c99    2024-08-21   \n",
      "1  0001455d-7a92-4a7b-a1d2-c747af1c8fd3    2024-07-20   \n",
      "2  00017e0a-7851-42fb-bfab-0baa96e23586    2024-08-18   \n",
      "3  000239aa-3478-453d-801e-66a82e39c8af    2024-06-18   \n",
      "4  00026b4c-dfe8-49dd-b026-4c2f0fd5c6a1    2024-07-04   \n",
      "\n",
      "                 SCAN_DATE STORE_NAME                   USER_ID       BARCODE  \\\n",
      "0  2024-08-21 14:19:06.539    WALMART  63b73a7f3d310dceeabd4758   15300014978   \n",
      "1  2024-07-20 09:50:24.206       ALDI  62c08877baa38d1a1f6c211a             0   \n",
      "2  2024-08-19 15:38:56.813    WALMART  60842f207ac8b7729e472020   78742229751   \n",
      "3  2024-06-19 11:03:37.468  FOOD LION  63fcd7cea4f8442c3386b589  783399746536   \n",
      "4  2024-07-05 15:56:43.549   RANDALLS  6193231ae9b3d75037b0f928   47900501183   \n",
      "\n",
      "   FINAL_QUANTITY  FINAL_SALE  \n",
      "0             1.0        0.00  \n",
      "1             0.0        1.49  \n",
      "2             1.0        0.00  \n",
      "3             0.0        3.49  \n",
      "4             1.0        0.00  \n"
     ]
    }
   ],
   "source": [
    "transactions.to_sql('transactions', conn, index=False, if_exists='replace')\n",
    "print(transactions.head())"
   ]
  },
  {
   "cell_type": "code",
   "execution_count": 6,
   "id": "7c90767b",
   "metadata": {},
   "outputs": [
    {
     "name": "stdout",
     "output_type": "stream",
     "text": [
      "          CATEGORY_1              CATEGORY_2                   CATEGORY_3  \\\n",
      "0  Health & Wellness           Sexual Health  Conductivity Gels & Lotions   \n",
      "1             Snacks           Puffed Snacks         Cheese Curls & Puffs   \n",
      "2  Health & Wellness               Hair Care        Hair Care Accessories   \n",
      "3  Health & Wellness               Oral Care                   Toothpaste   \n",
      "4  Health & Wellness  Medicines & Treatments               Essential Oils   \n",
      "\n",
      "  CATEGORY_4                                       MANUFACTURER  \\\n",
      "0        NaN                                                NaN   \n",
      "1        NaN                                                NaN   \n",
      "2        NaN                           PLACEHOLDER MANUFACTURER   \n",
      "3        NaN                                  COLGATE-PALMOLIVE   \n",
      "4        NaN  MAPLE HOLISTICS AND HONEYDEW PRODUCTS INTERCHA...   \n",
      "\n",
      "             BRAND       BARCODE  \n",
      "0              NaN  796494407820  \n",
      "1              NaN   23278011028  \n",
      "2          ELECSOP  461817824225  \n",
      "3          COLGATE   35000466815  \n",
      "4  MAPLE HOLISTICS  806810850459  \n"
     ]
    }
   ],
   "source": [
    "products.to_sql('products', conn, index=False, if_exists='replace')\n",
    "print(products.head())"
   ]
  },
  {
   "cell_type": "code",
   "execution_count": 7,
   "id": "09521ad2",
   "metadata": {},
   "outputs": [],
   "source": [
    "#What are the top 5 brands by receipts scanned among users 21 and over?\n",
    "query = \"\"\"\n",
    "SELECT p.brand, COUNT(t.receipt_id) AS receipts_scanned\n",
    "FROM transactions t\n",
    "JOIN users u ON t.user_id = u.id\n",
    "JOIN products p ON t.barcode = p.barcode\n",
    "WHERE (julianday('now') - julianday(u.birth_date)) / 365.25 >= 21\n",
    "AND p.brand IS NOT NULL\n",
    "GROUP BY p.brand\n",
    "ORDER BY receipts_scanned DESC\n",
    "LIMIT 6;\n",
    "\"\"\""
   ]
  },
  {
   "cell_type": "code",
   "execution_count": 8,
   "id": "de3ad2be",
   "metadata": {},
   "outputs": [
    {
     "name": "stdout",
     "output_type": "stream",
     "text": [
      "                       BRAND  receipts_scanned\n",
      "0  ANNIE'S HOMEGROWN GROCERY               552\n",
      "1                       DOVE               535\n",
      "2                   BAREFOOT               529\n",
      "3                      ORIBE               483\n",
      "4              SHEA MOISTURE               460\n",
      "5                     AVEENO               460\n"
     ]
    }
   ],
   "source": [
    "# Execute the query\n",
    "result = pd.read_sql_query(query, conn)\n",
    "\n",
    "# Display the result\n",
    "print(result)"
   ]
  },
  {
   "cell_type": "markdown",
   "id": "1a895b37",
   "metadata": {},
   "source": [
    "In the above query results, both Aveeno and Shea Moisture tied for the 5th position, each with 460 receipts scanned among users aged 21 and over. This suggests that both brands have a similar level of engagement within this demographic, highlighting their comparable popularity in terms of receipt scans."
   ]
  },
  {
   "cell_type": "code",
   "execution_count": 9,
   "id": "fe422097",
   "metadata": {},
   "outputs": [],
   "source": [
    "# What are the top 5 brands by sales among users that have had their account for at least six months?\n",
    "query1 = \"\"\"\n",
    "WITH eligible_users AS (\n",
    "    SELECT id AS user_id\n",
    "    FROM users\n",
    "    WHERE julianday('now') - julianday(created_date) >= 182.5\n",
    "),\n",
    "user_transactions AS (\n",
    "    SELECT \n",
    "        t.barcode,\n",
    "        t.final_sale,\n",
    "        p.brand\n",
    "    FROM transactions t\n",
    "    JOIN products p ON t.barcode = p.barcode\n",
    "    JOIN eligible_users eu ON t.user_id = eu.user_id\n",
    "    WHERE p.brand IS NOT NULL\n",
    ")\n",
    "SELECT \n",
    "    brand, \n",
    "    SUM(final_sale) AS total_sales\n",
    "FROM user_transactions\n",
    "GROUP BY brand\n",
    "ORDER BY total_sales DESC\n",
    "LIMIT 5;\n",
    "\"\"\""
   ]
  },
  {
   "cell_type": "code",
   "execution_count": 10,
   "id": "c136bddd",
   "metadata": {},
   "outputs": [
    {
     "name": "stdout",
     "output_type": "stream",
     "text": [
      "                       brand  total_sales\n",
      "0  ANNIE'S HOMEGROWN GROCERY      2321.04\n",
      "1                       DOVE      2267.21\n",
      "2                   BAREFOOT      2224.33\n",
      "3                      ORIBE      2030.91\n",
      "4              SHEA MOISTURE      1934.20\n"
     ]
    }
   ],
   "source": [
    "# Execute the query\n",
    "result1 = pd.read_sql_query(query1, conn)\n",
    "\n",
    "# Display the result\n",
    "print(result1)"
   ]
  },
  {
   "cell_type": "code",
   "execution_count": 11,
   "id": "18a4ba5a",
   "metadata": {},
   "outputs": [],
   "source": [
    "#What is the percentage of sales in the Health & Wellness category by generation?\n",
    "query2 = \"\"\"\n",
    "WITH user_generations AS (\n",
    "    SELECT \n",
    "        id AS user_id,\n",
    "        CASE\n",
    "            WHEN birth_date <= DATE('1945-12-31') THEN 'Silent Generation'\n",
    "            WHEN birth_date BETWEEN DATE('1946-01-01') AND DATE('1964-12-31') THEN 'Baby Boomers'\n",
    "            WHEN birth_date BETWEEN DATE('1965-01-01') AND DATE('1980-12-31') THEN 'Generation X'\n",
    "            WHEN birth_date BETWEEN DATE('1981-01-01') AND DATE('1996-12-31') THEN 'Millennials'\n",
    "            WHEN birth_date >= DATE('1997-01-01') THEN 'Generation Z'\n",
    "            ELSE 'Unknown'\n",
    "        END AS generation\n",
    "    FROM users\n",
    "),\n",
    "health_and_wellness_sales AS (\n",
    "    SELECT \n",
    "        ug.generation,\n",
    "        SUM(t.final_quantity * t.final_sale) AS total_health_wellness_sales\n",
    "    FROM transactions t\n",
    "    JOIN products p ON t.barcode = p.barcode\n",
    "    JOIN user_generations ug ON t.user_id = ug.user_id\n",
    "    WHERE p.category_1 = 'Health & Wellness'\n",
    "    GROUP BY ug.generation\n",
    "),\n",
    "total_sales AS (\n",
    "    SELECT \n",
    "        ug.generation,\n",
    "        SUM(t.final_quantity * t.final_sale) AS total_sales\n",
    "    FROM transactions t\n",
    "    JOIN products p ON t.barcode = p.barcode\n",
    "    JOIN user_generations ug ON t.user_id = ug.user_id\n",
    "    GROUP BY ug.generation\n",
    ")\n",
    "SELECT \n",
    "    ts.generation,\n",
    "    COALESCE(hws.total_health_wellness_sales, 0) AS total_health_wellness_sales,\n",
    "    ts.total_sales,\n",
    "    ROUND((COALESCE(hws.total_health_wellness_sales, 0) * 100.0) / ts.total_sales, 2) AS health_wellness_percentage\n",
    "FROM total_sales ts\n",
    "LEFT JOIN health_and_wellness_sales hws ON ts.generation = hws.generation\n",
    "ORDER BY health_wellness_percentage DESC;\n",
    "\"\"\"\n"
   ]
  },
  {
   "cell_type": "code",
   "execution_count": 12,
   "id": "76eed2ea",
   "metadata": {},
   "outputs": [
    {
     "name": "stdout",
     "output_type": "stream",
     "text": [
      "          generation  total_health_wellness_sales  total_sales  \\\n",
      "0       Baby Boomers                     35268.94     60918.15   \n",
      "1        Millennials                     79155.31    136711.44   \n",
      "2       Generation X                     27582.43     47657.91   \n",
      "3       Generation Z                         0.00         1.97   \n",
      "4  Silent Generation                         0.00         6.71   \n",
      "\n",
      "   health_wellness_percentage  \n",
      "0                       57.90  \n",
      "1                       57.90  \n",
      "2                       57.88  \n",
      "3                        0.00  \n",
      "4                        0.00  \n"
     ]
    }
   ],
   "source": [
    "# Execute the query\n",
    "result2 = pd.read_sql_query(query2, conn)\n",
    "\n",
    "# Display the result\n",
    "print(result2)"
   ]
  },
  {
   "cell_type": "code",
   "execution_count": 13,
   "id": "a4a5dfd2",
   "metadata": {},
   "outputs": [],
   "source": [
    "#Who are Fetch’s power users?\n",
    "query3 = \"\"\"\n",
    "SELECT \n",
    "    user_id,\n",
    "    state,\n",
    "    language,\n",
    "    gender,\n",
    "    transaction_count,\n",
    "    total_sales\n",
    "FROM (\n",
    "    SELECT \n",
    "        u.id AS user_id,\n",
    "        u.state,\n",
    "        u.language,\n",
    "        u.gender,\n",
    "        COUNT(t.receipt_id) AS transaction_count,\n",
    "        SUM(t.final_sale) AS total_sales\n",
    "    FROM \n",
    "        Users u\n",
    "    JOIN \n",
    "        Transactions t\n",
    "    ON \n",
    "        u.id = t.user_id\n",
    "    GROUP BY \n",
    "        u.id, u.state, u.language, u.gender\n",
    "    HAVING \n",
    "        COUNT(t.receipt_id) >= 2 AND SUM(t.final_sale) > 30\n",
    ") subquery\n",
    "ORDER BY \n",
    "    total_sales DESC, transaction_count DESC;\n",
    "\"\"\""
   ]
  },
  {
   "cell_type": "markdown",
   "id": "fe02c303",
   "metadata": {},
   "source": [
    "The above query defines power users based on two main criteria: a minimum transaction count of at least two purchases and total sales exceeding $30. This assumes that power users exhibit consistent buying behavior, evidenced by multiple transactions, and demonstrate higher engagement through significant spending. Additionally, the query includes user demographic information such as state, language, and gender, which are not directly tied to the definition of power users but can provide valuable insights for further segmentation or profiling. These attributes could be leveraged for targeted marketing strategies or deeper business analysis, allowing the company to understand and engage high-value users more effectively."
   ]
  },
  {
   "cell_type": "code",
   "execution_count": 14,
   "id": "448e0823",
   "metadata": {},
   "outputs": [
    {
     "name": "stdout",
     "output_type": "stream",
     "text": [
      "                    user_id state language  gender  transaction_count  \\\n",
      "0  643059f0838dd2651fb27f50    PA       en    male                  4   \n",
      "1  62ffec490d9dbaff18c0a999    NY       en  female                  6   \n",
      "2  5f4c9055e81e6f162e3f6fa8    FL   es-419  female                  2   \n",
      "3  5d191765c8b1ba28e74e8463    TX       en  female                  2   \n",
      "\n",
      "   total_sales  \n",
      "0        75.99  \n",
      "1        52.28  \n",
      "2        37.96  \n",
      "3        34.96  \n"
     ]
    }
   ],
   "source": [
    "# Execute the query\n",
    "result3 = pd.read_sql_query(query3, conn)\n",
    "\n",
    "# Display the result\n",
    "print(result3)"
   ]
  },
  {
   "cell_type": "code",
   "execution_count": 15,
   "id": "21ea9192",
   "metadata": {},
   "outputs": [
    {
     "name": "stdout",
     "output_type": "stream",
     "text": [
      "   max_transaction_count\n",
      "0                      6\n"
     ]
    }
   ],
   "source": [
    "# Execute the query to get the max transaction count\n",
    "query_max_transaction_count = \"\"\"\n",
    "SELECT MAX(transaction_count) AS max_transaction_count\n",
    "FROM (\n",
    "    SELECT \n",
    "        u.id AS user_id,\n",
    "        COUNT(t.receipt_id) AS transaction_count\n",
    "    FROM \n",
    "        Users u\n",
    "    JOIN \n",
    "        Transactions t\n",
    "    ON \n",
    "        u.id = t.user_id\n",
    "    GROUP BY \n",
    "        u.id\n",
    "    HAVING \n",
    "        COUNT(t.receipt_id) >= 2 AND SUM(t.final_sale) > 30\n",
    ") subquery;\n",
    "\"\"\"\n",
    "\n",
    "# Execute the query\n",
    "max_transaction_count = pd.read_sql_query(query_max_transaction_count, conn)\n",
    "\n",
    "# Display the result\n",
    "print(max_transaction_count)"
   ]
  },
  {
   "cell_type": "code",
   "execution_count": 16,
   "id": "51ab58c1",
   "metadata": {},
   "outputs": [],
   "source": [
    "#Which is the leading brand in the Dips & Salsa category?\n",
    "query4 = \"\"\"\n",
    "SELECT \n",
    "    p.brand AS leading_brand,\n",
    "    SUM(t.final_sale) AS total_sales\n",
    "FROM \n",
    "    Transactions t\n",
    "JOIN \n",
    "    Products p\n",
    "ON \n",
    "    t.barcode = p.barcode\n",
    "WHERE \n",
    "    (LOWER(p.category_1) = 'dips & salsa' \n",
    "    OR LOWER(p.category_2) = 'dips & salsa' \n",
    "    OR LOWER(p.category_3) = 'dips & salsa' \n",
    "    OR LOWER(p.category_4) = 'dips & salsa')\n",
    "    AND p.brand IS NOT NULL\n",
    "    \n",
    "GROUP BY \n",
    "    p.brand\n",
    "ORDER BY \n",
    "    total_sales DESC\n",
    "LIMIT 1;\n",
    "\"\"\""
   ]
  },
  {
   "cell_type": "code",
   "execution_count": 17,
   "id": "30beb1b1",
   "metadata": {},
   "outputs": [
    {
     "name": "stdout",
     "output_type": "stream",
     "text": [
      "  leading_brand  total_sales\n",
      "0      TOSTITOS    103104.29\n"
     ]
    }
   ],
   "source": [
    "# Execute the query\n",
    "result4 = pd.read_sql_query(query4, conn)\n",
    "\n",
    "# Display the result\n",
    "print(result4)"
   ]
  },
  {
   "cell_type": "code",
   "execution_count": 18,
   "id": "ea6abf08",
   "metadata": {},
   "outputs": [],
   "source": [
    "#At what percent has Fetch grown year over year?\n",
    "query5 = \"\"\"\n",
    "WITH YearlySales AS (\n",
    "    SELECT \n",
    "        strftime('%Y', t.purchase_date) AS year,\n",
    "        SUM(t.final_sale) AS total_sales\n",
    "    FROM \n",
    "        Transactions t\n",
    "    GROUP BY \n",
    "        strftime('%Y', t.purchase_date)\n",
    "    ORDER BY \n",
    "        year\n",
    "),\n",
    "Growth AS (\n",
    "    SELECT \n",
    "        y1.year AS current_year,\n",
    "        y1.total_sales AS current_year_sales,\n",
    "        y2.total_sales AS previous_year_sales,\n",
    "        CASE \n",
    "            WHEN y2.total_sales IS NOT NULL THEN \n",
    "                ((y1.total_sales - y2.total_sales) * 100.0 / y2.total_sales)\n",
    "            ELSE \n",
    "                NULL\n",
    "        END AS growth_percentage\n",
    "    FROM \n",
    "        YearlySales y1\n",
    "    LEFT JOIN \n",
    "        YearlySales y2\n",
    "    ON \n",
    "        CAST(y1.year AS INTEGER) = CAST(y2.year AS INTEGER) + 1\n",
    ")\n",
    "SELECT \n",
    "    current_year,\n",
    "    COALESCE(previous_year_sales, 0) AS previous_year_sales,\n",
    "    current_year_sales,\n",
    "    growth_percentage\n",
    "FROM \n",
    "    Growth\n",
    "ORDER BY \n",
    "    current_year;\n",
    "\"\"\""
   ]
  },
  {
   "cell_type": "code",
   "execution_count": 19,
   "id": "a40bc399",
   "metadata": {},
   "outputs": [
    {
     "name": "stdout",
     "output_type": "stream",
     "text": [
      "  current_year  previous_year_sales  current_year_sales growth_percentage\n",
      "0         2024                    0           171182.79              None\n"
     ]
    }
   ],
   "source": [
    "# Execute the query\n",
    "result5 = pd.read_sql_query(query5, conn)\n",
    "\n",
    "# Display the result\n",
    "print(result5)"
   ]
  }
 ],
 "metadata": {
  "kernelspec": {
   "display_name": "Python 3 (ipykernel)",
   "language": "python",
   "name": "python3"
  },
  "language_info": {
   "codemirror_mode": {
    "name": "ipython",
    "version": 3
   },
   "file_extension": ".py",
   "mimetype": "text/x-python",
   "name": "python",
   "nbconvert_exporter": "python",
   "pygments_lexer": "ipython3",
   "version": "3.11.5"
  }
 },
 "nbformat": 4,
 "nbformat_minor": 5
}
